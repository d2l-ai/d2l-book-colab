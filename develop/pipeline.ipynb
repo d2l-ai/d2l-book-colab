{
 "cells": [
  {
   "cell_type": "markdown",
   "metadata": {},
   "source": [
    "# Build pipeline\n",
    "\n",
    "\n",
    "![](../img/build.svg)\n",
    "\n",
    "The source files are markdown files. They are either purely markdown files or\n",
    "juypyter notebooks saved in the markdown format with output removed. For the\n",
    "latter, we may use Jupyter to edit them directly with the `notedown` plugin and\n",
    "then run \"Kernel -> Restart & Clear Output\" before committing.\n",
    "\n",
    "Then our building pipeline runs the following steps to publish the artifacts.\n",
    "\n",
    "1. Convert .md files into .ipynb files and evaluate each of them. The reason that\n",
    "   we use .md file as source format is because it's easy to review the source\n",
    "   changes. We evaluate every time to guarantee every notebook is\n",
    "   executable. This evaluation step may be time consuming, we can\n",
    "\n",
    "   - Assume every notebook can be executed in 10 minutes, we may use multiple\n",
    "     GPUs to accelerate the execution\n",
    "   - If the source .md file hasn't change since last evaluation, we can reuse\n",
    "     the cached .ipynb file to avoid execution again.\n",
    "   - We use multiple processes to run notebooks in parallel.\n",
    "\n",
    "1. The .ipynb files with outputs can be uploaded to Github directly so users can\n",
    "   clone it to run them locally or on the cloud. Also we zip all files so users\n",
    "   can download it easily\n",
    "\n",
    "1. These .ipynb files are then converted to .rst files with format compatible to\n",
    "   Sphinx. Additional preprocessing steps are used for image/table/citation\n",
    "   references.\n",
    "\n",
    "1. Use Sphinx to build .html and .pdf files\n",
    "\n",
    "1. Publish all .html/.pdf/.zip files online, such as into an AWS S3 bucket."
   ]
  }
 ],
 "metadata": {
  "kernelspec": {
   "display_name": "Python 3",
   "name": "python3"
  },
  "language_info": {
   "name": "python"
  }
 },
 "nbformat": 4,
 "nbformat_minor": 2
}