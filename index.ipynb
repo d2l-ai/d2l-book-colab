{
 "cells": [
  {
   "cell_type": "markdown",
   "metadata": {},
   "source": [
    "# Books with Jupyter Notebooks\n",
    "\n",
    "The `d2lbook` package helps you build and publish a book consists with\n",
    "multiple Jupyter notebooks. It assumes all notebooks are saved in the Markdown\n",
    "format with outputs striped in favor of editing and reviewing. It then evaluates\n",
    "notebooks to obtain code cell outputs and build them to various formats,\n",
    "including Jupyter notebook, HTML and PDF.\n",
    "\n",
    "In addition, it provides extra functionalities such as:\n",
    "\n",
    "1. Reference sections, figures, and tables with labels.\n",
    "1. Cite references with bibtex.\n",
    "1. Evaluate notebooks in parallel with GPU supports (under developing).\n",
    "\n",
    "Check [Dive into Deep Learning](https://d2l.ai/) for an example built with\n",
    "`d2lbook`.\n",
    "\n",
    "\n",
    "## Getting Started\n",
    "\n",
    "### Installation\n",
    "\n",
    "Use `pip` to install the command-line interface."
   ]
  },
  {
   "cell_type": "markdown",
   "metadata": {},
   "source": [
    "```sh\n",
    "pip install git+https://github.com/d2l-ai/d2l-book\n",
    "```\n"
   ]
  },
  {
   "cell_type": "markdown",
   "metadata": {},
   "source": [
    "In addition, you also need to install `pandoc`, e.g. `conda install pandoc`.\n",
    "\n",
    "\n",
    "### Create a new book (under developing)\n",
    "\n",
    "Create a new book into the directory `mybook` with a default configuration\n",
    "file."
   ]
  },
  {
   "cell_type": "markdown",
   "metadata": {},
   "source": [
    "```sh\n",
    "d2lbook create mybook\n",
    "```\n"
   ]
  },
  {
   "cell_type": "markdown",
   "metadata": {},
   "source": [
    "Or create a new book using the demo book content (the website that you’re viewing\n",
    "now)."
   ]
  },
  {
   "cell_type": "markdown",
   "metadata": {},
   "source": [
    "```sh\n",
    "d2lbook create mybook --demo\n",
    "```\n"
   ]
  },
  {
   "cell_type": "markdown",
   "metadata": {},
   "source": [
    "Edit the `config.ini` by updating the book title,  authors, and others.\n",
    "\n",
    "### Build the contents for your book\n",
    "\n",
    "First enter your book directory"
   ]
  },
  {
   "cell_type": "markdown",
   "metadata": {},
   "source": [
    "```sh\n",
    "cd mybook\n",
    "```\n"
   ]
  },
  {
   "cell_type": "markdown",
   "metadata": {},
   "source": [
    "The following command will evaluate all notebooks and generate outputs in\n",
    "`ipynb`, `html` and `pdf` format."
   ]
  },
  {
   "cell_type": "markdown",
   "metadata": {},
   "source": [
    "```sh\n",
    "d2lbook build all\n",
    "```\n"
   ]
  },
  {
   "cell_type": "markdown",
   "metadata": {},
   "source": [
    "Once finished, you can check the results in the `_build` folder.\n",
    "\n",
    "Or you can only build HTML outputs"
   ]
  },
  {
   "cell_type": "markdown",
   "metadata": {},
   "source": [
    "```\n",
    "d2lbook build html\n",
    "```\n"
   ]
  },
  {
   "cell_type": "markdown",
   "metadata": {},
   "source": [
    "### Deploy the contents online\n",
    "\n",
    "Publish both HTML and PDF into a s3 bucket, which allows to setup a static\n",
    "website hosting easily (you need to configure the `s3_bucket` in `config.ini`)."
   ]
  },
  {
   "cell_type": "markdown",
   "metadata": {},
   "source": [
    "```sh\n",
    "d2l-book deploy html pdf\n",
    "```\n"
   ]
  },
  {
   "cell_type": "markdown",
   "metadata": {},
   "source": [
    "Or push all notebooks in the `ipynb` format into a github repo (you need\n",
    "configure `github_repo` in `config.ini`) (under developing)."
   ]
  },
  {
   "cell_type": "markdown",
   "metadata": {},
   "source": [
    "```sh\n",
    "d2l-book deploy ipynb\n",
    "```\n"
   ]
  },
  {
   "cell_type": "markdown",
   "metadata": {},
   "source": [
    "## Table of Contents"
   ]
  },
  {
   "cell_type": "markdown",
   "metadata": {},
   "source": [
    "```toc\n",
    ":numbered:\n",
    ":maxdepth: 2\n",
    "\n",
    "examples/index\n",
    "develop/index\n",
    "```\n"
   ]
  },
  {
   "cell_type": "markdown",
   "metadata": {},
   "source": [
    "## History\n",
    "\n",
    "This project starts with several scripts wrote to build the documents sites for\n",
    "several projects, including [Apache MXNet](http://mxnet.io),\n",
    "[GluonCV](http://gluon-cv.mxnet.io),  [D2L](http://d2l.ai). Later on, heavily inspired\n",
    "by [Jupyter Book](https://jupyter.org/jupyter-book), we refactored these scripts\n",
    "into a package."
   ]
  }
 ],
 "metadata": {
  "language_info": {
   "name": "python"
  }
 },
 "nbformat": 4,
 "nbformat_minor": 2
}