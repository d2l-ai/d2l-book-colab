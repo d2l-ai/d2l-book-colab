{
 "cells": [
  {
   "cell_type": "markdown",
   "metadata": {},
   "source": [
    "# Markdown Cells\n",
    "\n",
    "The `d2lbook` provide additional features beyond the normal markdown supports in\n",
    "Jupyter.\n",
    "\n",
    "## Table of Contents\n",
    "\n",
    "You can use a `toc` code block to specify the table of contents.\n",
    "Here `:maxdepth: 2` means display two levels of files, and `:numbered:` means\n",
    "adding number to each section (default is not enabled). Also note that you don't\n",
    "need to specify the file extension."
   ]
  },
  {
   "cell_type": "markdown",
   "metadata": {},
   "source": [
    "`````\n",
    "```toc\n",
    ":maxdepth: 2\n",
    ":numbered:\n",
    "\n",
    "guide/index\n",
    "```\n",
    "`````\n"
   ]
  },
  {
   "cell_type": "markdown",
   "metadata": {},
   "source": [
    "## Images\n",
    "\n",
    "\n",
    "We can put the image caption in `[]`. In addition, we can use\n",
    "`:width:` followed by its value in an inline block to specify the image width,\n",
    "similarly use `:height:`for height."
   ]
  },
  {
   "cell_type": "markdown",
   "metadata": {},
   "source": [
    "```\n",
    "![Estimating the length of a foot](../img/koebel.jpg)\n",
    ":width:`400px`\n",
    "```\n"
   ]
  },
  {
   "cell_type": "markdown",
   "metadata": {},
   "source": [
    "![Estimating the length of a foot](../img/koebel.jpg)\n",
    "\n",
    ":width:`400px`\n",
    "\n",
    "\n",
    "\n",
    "### SVG Images\n",
    "\n",
    "We recommend you to use SVG images as much as you can. It is sharp and its size\n",
    "is small. But since Latex doesn't support SVG images, if you want to build a PDF\n",
    "output, you need to install `rsvg-convert`. On Macos, you can simply\n",
    "`brew install librsvg` or `sudo apt-get install librsvg2-bin` for Ubuntu.\n",
    "\n",
    "![A LSTM cell in SVG](http://book.d2l.ai/_images/lstm.svg)\n",
    "\n",
    "## Tables\n",
    "\n",
    "You can insert table caption before the table by starting it with a `:`. Note\n",
    "that you need to leave an empty line between the caption and the table itself."
   ]
  },
  {
   "cell_type": "markdown",
   "metadata": {},
   "source": [
    "```\n",
    ": The number is computed by $z_{ij} = \\sum_{k}x_{ik}y_{kj}$.\n",
    "\n",
    "| Year | Number | Comment |\n",
    "| ---  | --- | --- |\n",
    "| 2018 | 100 | Good year |\n",
    "| 2019 | 200 | Even better, add something to make this column wider |\n",
    "```\n"
   ]
  },
  {
   "cell_type": "markdown",
   "metadata": {},
   "source": [
    ": The number is computed by $z_{ij} = \\sum_{k}x_{ik}y_{kj}$.\n",
    "\n",
    "| Year | Number | Comment |\n",
    "| ---  | --- | --- |\n",
    "| 2018 | 100 | Good year |\n",
    "| 2019 | 200 | Even better, add something to make this column wider  |\n",
    "\n",
    "If the Table caption number doesn't show properly, you may need to update\n",
    "`pandoc` to the latest version.\n",
    "\n",
    "## Cross References\n",
    "\n",
    "We often want to reference sections, figures, tables and equations in a book.\n",
    "\n",
    "### Referencing Sections\n",
    "\n",
    ":label:`my_sec3`\n",
    "\n",
    "\n",
    "We can put a label immediately after the section title to allow this section to\n",
    "be referenced by its label. The label format is\n",
    "`:label:` followed by its label name in an inline code block."
   ]
  },
  {
   "cell_type": "markdown",
   "metadata": {},
   "source": [
    "```\n",
    "### Referencing Sections\n",
    ":label:`my_sec3`\n",
    "```\n"
   ]
  },
  {
   "cell_type": "markdown",
   "metadata": {},
   "source": [
    "Then we can reference this section through `:ref:` followed by label name in an\n",
    "inline code block"
   ]
  },
  {
   "cell_type": "markdown",
   "metadata": {},
   "source": [
    "```\n",
    ":ref:`my_sec3` demonstrates how to reference a section.\n",
    "```\n"
   ]
  },
  {
   "cell_type": "markdown",
   "metadata": {},
   "source": [
    ":ref:`my_sec3` demonstrates how to reference a section.\n",
    "\n",
    "\n",
    "Note that it displays the referenced section title with a clickable link. We can\n",
    "also use a numbered version by changing `:num:` to `:numref:`, e.g. :numref:`my_sec3`.\n",
    "\n",
    "If the label is incorrect, say we put `my_sec2` here, the build log will\n",
    "contains a warning such as"
   ]
  },
  {
   "cell_type": "markdown",
   "metadata": {},
   "source": [
    "```\n",
    "WARNING: undefined label: my_sec2\n",
    "```\n"
   ]
  },
  {
   "cell_type": "markdown",
   "metadata": {},
   "source": [
    "You can turn it into error by setting `warning_is_error = True` in\n",
    "`config.ini`.\n",
    "\n",
    "Besides, we can cross\n",
    "reference label from other files as well, e.g. :numref:`sec_code`. This applies\n",
    "to figures, tables and equations as well.\n",
    "\n",
    "\n",
    "### Referencing Images\n",
    "\n",
    "Similarly we can label an image and reference it later."
   ]
  },
  {
   "cell_type": "markdown",
   "metadata": {},
   "source": [
    "```\n",
    "![A nice image with a cat and a dog.](../img/catdog.jpg)\n",
    ":width:`300px`\n",
    ":label:`img_catdog`\n",
    "\n",
    "As can be seen from :numref:`img_catdog`,\n",
    "```\n"
   ]
  },
  {
   "cell_type": "markdown",
   "metadata": {},
   "source": [
    "![A nice image with a cat and a dog.](../img/catdog.jpg)\n",
    "\n",
    ":width:`300px`\n",
    "\n",
    "\n",
    ":label:`img_catdog`\n",
    "\n",
    "\n",
    "As can be seen from :numref:`img_catdog`, there is a cat and a dog.\n",
    "\n",
    "### Referencing Tables"
   ]
  },
  {
   "cell_type": "markdown",
   "metadata": {},
   "source": [
    "```\n",
    ":This a is very long table caption. It will breaks into several lines. And\n",
    "contains a math equation as well. $z_{ij} = \\sum_{k}x_{ik}y_{kj}$.\n",
    "\n",
    "| Year | Number | Comment |\n",
    "| ---  | --- | --- |\n",
    "| 2018 | 100 | Good year |\n",
    ":label:`table`\n",
    "\n",
    "Refer to :numref:`table`\n",
    "\n",
    "```\n"
   ]
  },
  {
   "cell_type": "markdown",
   "metadata": {},
   "source": [
    ":This a is very long table caption. It will breaks into several lines. And\n",
    "contains a math equation as well. $z_{ij} = \\sum_{k}x_{ik}y_{kj}$.\n",
    "\n",
    "| Year | Number | Comment |\n",
    "| ---  | --- | --- |\n",
    "| 2018 | 100 | Good year |\n",
    "\n",
    ":label:`table`\n",
    "\n",
    "\n",
    "Refer to :numref:`table`\n",
    "\n",
    "### Referencing Equations\n",
    "\n",
    "The difference here is that we need to use `eqlabel` instead of `label`. For\n",
    "example"
   ]
  },
  {
   "cell_type": "markdown",
   "metadata": {},
   "source": [
    "```\n",
    "$$\\hat{\\mathbf{y}}=\\mathbf X \\mathbf{w}+b$$\n",
    ":eqlabel:`linear`\n",
    "\n",
    "\n",
    "In :eqref:`linear`, we define the linear model.\n",
    "```\n"
   ]
  },
  {
   "cell_type": "markdown",
   "metadata": {},
   "source": [
    "$$\\hat{\\mathbf{y}}=\\mathbf X \\mathbf{w}+b$$\n",
    "\n",
    ":eqlabel:`linear`\n",
    "\n",
    "\n",
    "In :eqref:`linear`, we define the linear model.\n",
    "\n",
    "\n",
    "## Citations\n",
    "\n",
    "First put your bib file at somewhere. All references will be displayed on the\n",
    "place where it inserted in HTML. But in PDF, all references will be moved to end of\n",
    "the document. Then we can cite a paper through `:cite:`. Multipel papers can be\n",
    "separated by commans (note there should be no space)"
   ]
  },
  {
   "cell_type": "markdown",
   "metadata": {},
   "source": [
    "```\n",
    "\n",
    "The breakthrough of deep learning origins from :cite:`krizhevsky2012imagenet` for...\n",
    "\n",
    "Two keys together :cite:`he2016deep,devlin2018bert`...\n",
    "\n",
    ":bibliography:`../refs.bib`\n",
    "```\n"
   ]
  },
  {
   "cell_type": "markdown",
   "metadata": {},
   "source": [
    "The breakthrough of deep learning origins from :cite:`krizhevsky2012imagenet` for\n",
    "computer vision, there is a rich of following up works, such as\n",
    ":cite:`he2016deep`. NLP is catching up as well, the recent work\n",
    ":cite:`devlin2018bert` shows significant improvements.\n",
    "\n",
    "Two keys together :cite:`he2016deep,devlin2018bert`. Single author\n",
    ":cite:`mitchell80`, two authors :cite:`Newell81`\n",
    "\n",
    "## References\n",
    "\n",
    "\n",
    ":bibliography:`../refs.bib`"
   ]
  }
 ],
 "metadata": {
  "kernelspec": {
   "display_name": "Python 3",
   "name": "python3"
  },
  "language_info": {
   "name": "python"
  }
 },
 "nbformat": 4,
 "nbformat_minor": 2
}